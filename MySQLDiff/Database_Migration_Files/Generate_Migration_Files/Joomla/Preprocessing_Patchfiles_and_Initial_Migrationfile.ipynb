{
 "cells": [
  {
   "cell_type": "code",
   "execution_count": 1,
   "id": "5eaecc00",
   "metadata": {},
   "outputs": [],
   "source": [
    "####################################################################################\n",
    "#\n",
    "# Preprocessing_Patchfiles_and_Initial_Migrationfile.ipynb - script for pre-processing patchfiles and initial database migration file for the Joomla project.\n",
    "# Copyright (C) 2023  Sravani Namburi\n",
    "#\n",
    "# Preprocessing_Patchfiles_and_Initial_Migrationfile.ipynb program is free software; you can redistribute it and/or modify\n",
    "# it under the terms of the GNU General Public License as published by\n",
    "# the Free Software Foundation; either version 3 of the License, or\n",
    "# (at your option) any later version.\n",
    "# \n",
    "# Preprocessing_Patchfiles_and_Initial_Migrationfile.ipynb program is distributed in the hope that it will be useful,\n",
    "# but WITHOUT ANY WARRANTY; without even the implied warranty of\n",
    "# MERCHANTABILITY or FITNESS FOR A PARTICULAR PURPOSE.  See the\n",
    "# GNU General Public License for more details.\n",
    "# \n",
    "# You should have received a copy of the GNU General Public License along\n",
    "# with Preprocessing_Patchfiles_and_Initial_Migrationfile.ipynb program; If not, see <https://www.gnu.org/licenses/>.\n",
    "#\n",
    "####################################################################################"
   ]
  },
  {
   "cell_type": "code",
   "execution_count": 2,
   "id": "564630e8",
   "metadata": {},
   "outputs": [],
   "source": [
    "import os\n",
    "import re"
   ]
  },
  {
   "cell_type": "markdown",
   "id": "c3ad0686",
   "metadata": {},
   "source": [
    "### Pre-Processing Patch Files"
   ]
  },
  {
   "cell_type": "code",
   "execution_count": 3,
   "id": "4f7e1d43",
   "metadata": {},
   "outputs": [],
   "source": [
    "#Extract Alter, create, rename, and drop statements from patchfiles\n",
    "cwd = os.getcwd()\n",
    "input_folder = os.path.join(cwd, 'Patchfiles')\n",
    "output_folder = os.path.join(cwd, 'Patchfiles_Mod')\n",
    "\n",
    "\n",
    "if not os.path.exists(output_folder):\n",
    "    os.makedirs(output_folder)\n",
    "\n",
    "def remove_comments(sql):\n",
    "    return re.sub(r'--.*?\\n|/\\*.*?\\*/', '', sql, flags=re.DOTALL)\n",
    "\n",
    "# Function to extract ALTER, CREATE, RENAME and DROP statements\n",
    "def extract_statements(sql):\n",
    "    statements = re.findall(r'(ALTER TABLE.*?;|CREATE TABLE.*?;|DROP TABLE.*?;|RENAME TABLE.*?;)', sql, flags=re.DOTALL)\n",
    "    return statements\n",
    "\n",
    "# Lines to skip, these tables are not present in the database.\n",
    "lines_to_skip = [\n",
    "    \"ALTER TABLE `#__privacy_requests` MODIFY `requested_at` datetime NOT NULL;\",\n",
    "    \"ALTER TABLE `#__privacy_requests` MODIFY `confirm_token_created_at` datetime NULL DEFAULT NULL;\",\n",
    "    \"ALTER TABLE `#__privacy_consents` MODIFY `created` datetime NOT NULL;\",\n",
    "    \"ALTER TABLE `#__action_logs` MODIFY `log_date` datetime NOT NULL;\"\n",
    "]\n",
    "\n",
    "\n",
    "for filename in os.listdir(input_folder):\n",
    "    if filename.endswith('.sql'):\n",
    "        with open(os.path.join(input_folder, filename), 'r') as file:\n",
    "            sql_content = file.read()\n",
    "\n",
    "        sql_content = remove_comments(sql_content)\n",
    "        \n",
    "        statements = extract_statements(sql_content)\n",
    "\n",
    "        output_filename = os.path.splitext(filename)[0] + '_mod.sql'\n",
    "        output_filepath = os.path.join(output_folder, output_filename)\n",
    "        with open(output_filepath, 'w') as file:\n",
    "            for statement in statements:\n",
    "                if statement.strip() not in lines_to_skip:\n",
    "                    file.write(statement + '\\n')"
   ]
  },
  {
   "cell_type": "markdown",
   "id": "7b7c39b9",
   "metadata": {},
   "source": [
    "### Pre-Processing Initial Database Migration File"
   ]
  },
  {
   "cell_type": "code",
   "execution_count": 4,
   "id": "abbf7799",
   "metadata": {},
   "outputs": [],
   "source": [
    "#Extract create table statements from initial database migration files\n",
    "\n",
    "def extract_create_table_statements(sql_content):\n",
    "    create_table_pattern = re.compile(r'CREATE TABLE .*?;', re.DOTALL)\n",
    "    create_table_statements = create_table_pattern.findall(sql_content)\n",
    "    return create_table_statements\n",
    "\n",
    "\n",
    "def replace_date_and_default_values(sql_content):\n",
    "    # Replace date values\n",
    "    sql_content = sql_content.replace('0000-00-00', '2023-01-01')\n",
    "    sql_content = sql_content.replace('0000-00-00 00:00:00', '2023-01-01 00:00:00')\n",
    "    \n",
    "    # Remove default values for specific data types\n",
    "    sql_content = re.sub(r'(TEXT|MEDIUMTEXT|BLOB|GEOMETRY|JSON|text|mediumtext|blob|geometry|json) .*? DEFAULT \\'\\',', r'\\1 NOT NULL,', sql_content)\n",
    "    \n",
    "    return sql_content\n",
    "\n",
    "\n",
    "cwd = os.getcwd()\n",
    "parent_dir = os.path.dirname(cwd)\n",
    "\n",
    "sql_file_path = os.path.join(parent_dir, 'joomla-4.0.0.sql')\n",
    "with open(sql_file_path, 'r') as file:\n",
    "    sql_file_content = file.read()\n",
    "\n",
    "create_table_statements = extract_create_table_statements(sql_file_content)\n",
    "modified_create_table_statements = [replace_date_and_default_values(statement) for statement in create_table_statements]\n",
    "\n",
    "output_file_path = os.path.join(parent_dir, 'joomla-4.0.0_mod.sql')\n",
    "with open(output_file_path, 'w') as file:\n",
    "    file.write('\\n'.join(modified_create_table_statements))"
   ]
  }
 ],
 "metadata": {
  "kernelspec": {
   "display_name": "Python 3 (ipykernel)",
   "language": "python",
   "name": "python3"
  },
  "language_info": {
   "codemirror_mode": {
    "name": "ipython",
    "version": 3
   },
   "file_extension": ".py",
   "mimetype": "text/x-python",
   "name": "python",
   "nbconvert_exporter": "python",
   "pygments_lexer": "ipython3",
   "version": "3.9.13"
  }
 },
 "nbformat": 4,
 "nbformat_minor": 5
}
